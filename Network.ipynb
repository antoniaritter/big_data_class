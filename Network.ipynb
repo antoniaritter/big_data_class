{
 "cells": [
  {
   "cell_type": "code",
   "execution_count": null,
   "metadata": {},
   "outputs": [],
   "source": [
    "# Nov 27 2020\n",
    "# Big Data Project \n",
    "# A small neural network"
   ]
  },
  {
   "cell_type": "markdown",
   "metadata": {},
   "source": [
    "References:\n",
    "\n",
    "https://keras.io/about/\n",
    "\n",
    "https://machinelearningmastery.com/tutorial-first-neural-network-python-keras/"
   ]
  },
  {
   "cell_type": "code",
   "execution_count": 1,
   "metadata": {},
   "outputs": [],
   "source": [
    "import csv \n",
    "import numpy as np\n",
    "import random\n",
    "\n",
    "import keras\n",
    "from keras.models import Sequential\n",
    "from keras.layers import Dense"
   ]
  },
  {
   "cell_type": "code",
   "execution_count": 2,
   "metadata": {},
   "outputs": [],
   "source": [
    "filename = \"cps3_reshape.csv\"\n",
    "\n",
    "data = [] \n",
    "  \n",
    "# opening the CSV file \n",
    "with open(filename, mode ='r') as file:     \n",
    "         \n",
    "       # reading the CSV file \n",
    "       csvFile = csv.reader(file) \n",
    "  \n",
    "       # displaying the contents of the CSV file \n",
    "       for line in csvFile: \n",
    "            data.append(line)"
   ]
  },
  {
   "cell_type": "code",
   "execution_count": 3,
   "metadata": {},
   "outputs": [],
   "source": [
    "data[0][45]=('BIRTH')\n",
    "for i in range(len(data[1:])):\n",
    "    person = data[i+1]\n",
    "    if float(person[41])>float(person[21]):\n",
    "            person.append('1') #birth\n",
    "            #print(len(person))\n",
    "    elif float(person[41])==float(person[21]):\n",
    "            person.append('0') #no birth\n",
    "    else:\n",
    "            person.append('9') #error"
   ]
  },
  {
   "cell_type": "code",
   "execution_count": 4,
   "metadata": {},
   "outputs": [],
   "source": [
    "# remove minors from data\n",
    "# originally there were 47000 rows \n",
    "# after this there are 36770\n",
    "def remove_minors(data):\n",
    "    data2 = []\n",
    "    data2.append(data[0])\n",
    "    for row in data[1:]:\n",
    "        if int(row[15])>17:\n",
    "            data2.append(row)\n",
    "    return data2\n",
    "\n",
    "data = remove_minors(data)"
   ]
  },
  {
   "cell_type": "code",
   "execution_count": 6,
   "metadata": {},
   "outputs": [
    {
     "name": "stdout",
     "output_type": "stream",
     "text": [
      "['YEAR', 'SERIAL', 'MONTH', 'HWTFINL', 'CPSID', 'REGION', 'STATEFIP', 'METRO', 'FAMINC', 'HRHHID', 'HRHHID2', 'PERNUM', 'WTFINL', 'CPSIDP', 'RELATE', 'AGE', 'SEX', 'RACE', 'MARST', 'POPSTAT', 'VETSTAT', 'NCHILD', 'BPL', 'YRIMMIG', 'CITIZEN', 'NATIVITY', 'HISPAN', 'EMPSTAT', 'LABFORCE', 'OCC', 'IND', 'CLASSWKR', 'UHRSWORKT', 'WHYUNEMP', 'WKSTAT', 'PROFCERT', 'EDUC', 'SCHLCOLL', 'DIFFANY', 'FAMINC2', 'MARST2', 'NCHILD2', 'EMPSTAT2', 'LABFORCE2', 'WKSTAT2', 'BIRTH']\n",
      "36770\n"
     ]
    }
   ],
   "source": [
    "print(data[0])\n",
    "print(len(data))"
   ]
  },
  {
   "cell_type": "code",
   "execution_count": 8,
   "metadata": {},
   "outputs": [
    {
     "name": "stdout",
     "output_type": "stream",
     "text": [
      "There are 30212 observations where empstat=empstat2, so baseline accuracy for empstat2 is 0.8216480826760947\n"
     ]
    }
   ],
   "source": [
    "count = 0\n",
    "for i in range(len(data)):\n",
    "    if data[i][27]==data[i][42]:\n",
    "        count += 1\n",
    "print(\"There are\", count, \"observations where empstat=empstat2, so baseline accuracy for empstat2 is\", count/len(data))\n",
    "# (if using empstat (27) in input)"
   ]
  },
  {
   "cell_type": "code",
   "execution_count": 102,
   "metadata": {},
   "outputs": [],
   "source": [
    "# these are the indices of the variables the network will use\n",
    "\n",
    "# all:\n",
    "#indexNet = [5, 6, 7, 8, 11, 14, 15, 16, 17, 18, 19, 20, 21, 22, 23, 24, 25, 26, 27, 28, 29, 30, 31, 32, 33, 34, 35, 36, 37, 38]\n",
    "\n",
    "# a few:\n",
    "indexNet = [8, 15, 16]\n",
    "\n",
    "# for empstat2:\n",
    "# excluding (27, 'EMPSTAT')(28, 'LABFORCE')(29, 'OCC')(30, 'IND')(31, 'CLASSWKR')(32, 'UHRSWORKT')(33, 'WHYUNEMP')(34, 'WKSTAT')\n",
    "#indexNet = [5, 6, 7, 8, 11, 14, 15, 16, 17, 18, 19, 20, 21, 22, 23, 24, 25, 26, 35, 36, 37, 38]\n",
    "\n",
    "# for marst2:\n",
    "# excluding (18, 'MARST')\n",
    "#indexNet = [5, 6, 7, 8, 11, 14, 15, 16, 17, 19, 20, 21, 22, 23, 24, 25, 26, 27, 28, 29, 30, 31, 32, 33, 34, 35, 36, 37, 38]\n",
    "\n",
    "# for birth:\n",
    "# excluding none, since BIRTH is added to the data later \n",
    "#indexNet = [5, 6, 7, 8, 11, 14, 15, 16, 17, 18, 19, 20, 21, 22, 23, 24, 25, 26, 27, 28, 29, 30, 31, 32, 33, 34, 35, 36, 37, 38]"
   ]
  },
  {
   "cell_type": "code",
   "execution_count": 103,
   "metadata": {},
   "outputs": [],
   "source": [
    "# generate training and testing data\n",
    "# NOTE: change y targets (see comments)\n",
    "\n",
    "dataNet = data[1:]\n",
    "random.shuffle(dataNet)\n",
    "\n",
    "Xtrain = []\n",
    "ytrain = []\n",
    "Xtest = []\n",
    "ytest = []\n",
    "\n",
    "for obs in range(1, 33000):\n",
    "    row = []\n",
    "    for i in indexNet:\n",
    "        row.append(int(dataNet[obs][i]))\n",
    "    Xtrain.append(row)\n",
    "    #if dataNet[obs][42] in ['1', '10', '12']: # employed\n",
    "    #if dataNet[obs][40] in ['1', '2', '3']: # married \n",
    "    if dataNet[obs][45] in ['1']: # born \n",
    "        ytrain.append([1])\n",
    "    else:\n",
    "        ytrain.append([0])\n",
    "Xtrain = np.array(Xtrain)\n",
    "ytrain = np.array(ytrain)\n",
    "\n",
    "for obs in range(33001, len(dataNet)):\n",
    "    row = []\n",
    "    for i in indexNet:\n",
    "        row.append(int(dataNet[obs][i]))\n",
    "    Xtest.append(row)\n",
    "    #if dataNet[obs][42] in ['1', '10', '12']: # employed \n",
    "    #if dataNet[obs][40] in ['1', '2', '3']: # married \n",
    "    if dataNet[obs][45] in ['1']: # born\n",
    "        ytest.append([1])\n",
    "    else:\n",
    "        ytest.append([0])\n",
    "Xtest = np.array(Xtest)\n",
    "ytest = np.array(ytest)"
   ]
  },
  {
   "cell_type": "code",
   "execution_count": 104,
   "metadata": {},
   "outputs": [
    {
     "name": "stdout",
     "output_type": "stream",
     "text": [
      "Epoch 1/20\n",
      "3300/3300 [==============================] - 6s 2ms/step - loss: 0.2842 - accuracy: 0.9561\n",
      "Epoch 2/20\n",
      "3300/3300 [==============================] - 8s 2ms/step - loss: 0.1860 - accuracy: 0.9599\n",
      "Epoch 3/20\n",
      "3300/3300 [==============================] - 6s 2ms/step - loss: 0.1726 - accuracy: 0.9600\n",
      "Epoch 4/20\n",
      "3300/3300 [==============================] - 4s 1ms/step - loss: 0.1671 - accuracy: 0.9600\n",
      "Epoch 5/20\n",
      "3300/3300 [==============================] - 4s 1ms/step - loss: 0.1651 - accuracy: 0.9600\n",
      "Epoch 6/20\n",
      "3300/3300 [==============================] - 5s 1ms/step - loss: 0.1650 - accuracy: 0.9600\n",
      "Epoch 7/20\n",
      "3300/3300 [==============================] - 6s 2ms/step - loss: 0.1649 - accuracy: 0.9600\n",
      "Epoch 8/20\n",
      "3300/3300 [==============================] - 5s 1ms/step - loss: 0.1643 - accuracy: 0.9600\n",
      "Epoch 9/20\n",
      "3300/3300 [==============================] - 4s 1ms/step - loss: 0.1647 - accuracy: 0.9600\n",
      "Epoch 10/20\n",
      "3300/3300 [==============================] - 4s 1ms/step - loss: 0.1641 - accuracy: 0.9600\n",
      "Epoch 11/20\n",
      "3300/3300 [==============================] - 4s 1ms/step - loss: 0.1635 - accuracy: 0.9600\n",
      "Epoch 12/20\n",
      "3300/3300 [==============================] - 4s 1ms/step - loss: 0.1645 - accuracy: 0.9600\n",
      "Epoch 13/20\n",
      "3300/3300 [==============================] - 6s 2ms/step - loss: 0.1643 - accuracy: 0.9600\n",
      "Epoch 14/20\n",
      "3300/3300 [==============================] - 6s 2ms/step - loss: 0.1634 - accuracy: 0.9600\n",
      "Epoch 15/20\n",
      "3300/3300 [==============================] - 7s 2ms/step - loss: 0.1635 - accuracy: 0.9600\n",
      "Epoch 16/20\n",
      "3300/3300 [==============================] - 4s 1ms/step - loss: 0.1636 - accuracy: 0.9600\n",
      "Epoch 17/20\n",
      "3300/3300 [==============================] - 4s 1ms/step - loss: 0.1637 - accuracy: 0.9600\n",
      "Epoch 18/20\n",
      "3300/3300 [==============================] - 7s 2ms/step - loss: 0.1634 - accuracy: 0.9600\n",
      "Epoch 19/20\n",
      "3300/3300 [==============================] - 9s 3ms/step - loss: 0.1635 - accuracy: 0.9600\n",
      "Epoch 20/20\n",
      "3300/3300 [==============================] - 9s 3ms/step - loss: 0.1639 - accuracy: 0.9600\n"
     ]
    },
    {
     "data": {
      "text/plain": [
       "<tensorflow.python.keras.callbacks.History at 0x7ff13c7f8100>"
      ]
     },
     "execution_count": 104,
     "metadata": {},
     "output_type": "execute_result"
    }
   ],
   "source": [
    "net = Sequential()\n",
    "net.add(Dense(10, input_dim=len(indexNet), activation = 'relu'))\n",
    "net.add(Dense(20, activation='relu'))\n",
    "net.add(Dense(30, activation='relu'))\n",
    "net.add(Dense(1, activation='sigmoid'))\n",
    "\n",
    "net.compile(optimizer='adam',\n",
    "              loss='binary_crossentropy',\n",
    "              metrics=['accuracy'])\n",
    "\n",
    "net.fit(Xtrain, ytrain, epochs=20, batch_size=10)"
   ]
  },
  {
   "cell_type": "code",
   "execution_count": 24,
   "metadata": {},
   "outputs": [
    {
     "name": "stdout",
     "output_type": "stream",
     "text": [
      "Model: \"sequential_4\"\n",
      "_________________________________________________________________\n",
      "Layer (type)                 Output Shape              Param #   \n",
      "=================================================================\n",
      "dense_12 (Dense)             (None, 10)                300       \n",
      "_________________________________________________________________\n",
      "dense_13 (Dense)             (None, 20)                220       \n",
      "_________________________________________________________________\n",
      "dense_14 (Dense)             (None, 30)                630       \n",
      "_________________________________________________________________\n",
      "dense_15 (Dense)             (None, 1)                 31        \n",
      "=================================================================\n",
      "Total params: 1,181\n",
      "Trainable params: 1,181\n",
      "Non-trainable params: 0\n",
      "_________________________________________________________________\n"
     ]
    }
   ],
   "source": [
    "net.summary()"
   ]
  },
  {
   "cell_type": "code",
   "execution_count": 105,
   "metadata": {},
   "outputs": [
    {
     "name": "stdout",
     "output_type": "stream",
     "text": [
      "38/38 [==============================] - 0s 743us/step - loss: 0.1581 - accuracy: 0.9613\n"
     ]
    }
   ],
   "source": [
    "score = net.evaluate(Xtest, ytest, batch_size=100)"
   ]
  },
  {
   "cell_type": "code",
   "execution_count": null,
   "metadata": {},
   "outputs": [],
   "source": []
  }
 ],
 "metadata": {
  "kernelspec": {
   "display_name": "Python 3",
   "language": "python",
   "name": "python3"
  },
  "language_info": {
   "codemirror_mode": {
    "name": "ipython",
    "version": 3
   },
   "file_extension": ".py",
   "mimetype": "text/x-python",
   "name": "python",
   "nbconvert_exporter": "python",
   "pygments_lexer": "ipython3",
   "version": "3.8.6"
  }
 },
 "nbformat": 4,
 "nbformat_minor": 4
}
