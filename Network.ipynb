{
 "cells": [
  {
   "cell_type": "code",
   "execution_count": null,
   "metadata": {},
   "outputs": [],
   "source": [
    "# Nov 27 2020\n",
    "# Big Data Project \n",
    "# A small neural network"
   ]
  },
  {
   "cell_type": "markdown",
   "metadata": {},
   "source": [
    "References:\n",
    "\n",
    "https://keras.io/about/\n",
    "\n",
    "https://machinelearningmastery.com/tutorial-first-neural-network-python-keras/"
   ]
  },
  {
   "cell_type": "code",
   "execution_count": 14,
   "metadata": {},
   "outputs": [],
   "source": [
    "import csv \n",
    "import numpy as np\n",
    "import random\n",
    "\n",
    "import keras\n",
    "from keras.models import Sequential\n",
    "from keras.layers import Dense"
   ]
  },
  {
   "cell_type": "code",
   "execution_count": 25,
   "metadata": {},
   "outputs": [],
   "source": [
    "filename = \"cps3_reshape.csv\"\n",
    "\n",
    "data = [] \n",
    "  \n",
    "# opening the CSV file \n",
    "with open(filename, mode ='r') as file:     \n",
    "         \n",
    "       # reading the CSV file \n",
    "       csvFile = csv.reader(file) \n",
    "  \n",
    "       # displaying the contents of the CSV file \n",
    "       for line in csvFile: \n",
    "            data.append(line)"
   ]
  },
  {
   "cell_type": "code",
   "execution_count": 26,
   "metadata": {},
   "outputs": [
    {
     "name": "stdout",
     "output_type": "stream",
     "text": [
      "['YEAR', 'SERIAL', 'MONTH', 'HWTFINL', 'CPSID', 'REGION', 'STATEFIP', 'METRO', 'FAMINC', 'HRHHID', 'HRHHID2', 'PERNUM', 'WTFINL', 'CPSIDP', 'RELATE', 'AGE', 'SEX', 'RACE', 'MARST', 'POPSTAT', 'VETSTAT', 'NCHILD', 'BPL', 'YRIMMIG', 'CITIZEN', 'NATIVITY', 'HISPAN', 'EMPSTAT', 'LABFORCE', 'OCC', 'IND', 'CLASSWKR', 'UHRSWORKT', 'WHYUNEMP', 'WKSTAT', 'PROFCERT', 'EDUC', 'SCHLCOLL', 'DIFFANY'] EMPSTAT2\n",
      "47000\n"
     ]
    }
   ],
   "source": [
    "print(data[0][:39], data[0][42])\n",
    "print(len(data))"
   ]
  },
  {
   "cell_type": "code",
   "execution_count": 113,
   "metadata": {},
   "outputs": [
    {
     "name": "stdout",
     "output_type": "stream",
     "text": [
      "There are 39336 observations where empstat=empstat2, so baseline accuracy is 0.836936170212766\n"
     ]
    }
   ],
   "source": [
    "count = 0\n",
    "for i in range(len(data)):\n",
    "    if data[i][27]==data[i][42]:\n",
    "        count += 1\n",
    "print(\"There are\", count, \"observations where empstat=empstat2, so baseline accuracy is\", count/len(data))\n",
    "# (if using empstat (27) in input)"
   ]
  },
  {
   "cell_type": "code",
   "execution_count": 184,
   "metadata": {},
   "outputs": [],
   "source": [
    "# these are the indices of the variables the network will use\n",
    "#indexNet = [0, 1, 2, 5, 6, 7, 8, 11, 14, 15, 16, 17, 18, 19, 20, 21, 22, 23, 24, 25, 26, 27, 28, 29, 30, 31, 32, 33, 34, 35, 36, 37, 38]\n",
    "indexNet = [8, 15, 16, 17, 24]\n",
    "#indexNet = [16, 17, 27]\n",
    "#indexNet = [27]"
   ]
  },
  {
   "cell_type": "code",
   "execution_count": 185,
   "metadata": {},
   "outputs": [],
   "source": [
    "# generate training and testing data\n",
    "\n",
    "dataNet = data[1:]\n",
    "random.shuffle(dataNet)\n",
    "\n",
    "Xtrain = []\n",
    "ytrain = []\n",
    "Xtest = []\n",
    "ytest = []\n",
    "\n",
    "for obs in range(1, 40001):\n",
    "    row = []\n",
    "    for i in indexNet:\n",
    "        row.append(int(dataNet[obs][i]))\n",
    "    Xtrain.append(row)\n",
    "    if dataNet[obs][42] in ['1', '10', '12']: # employed \n",
    "        ytrain.append([1])\n",
    "    else:\n",
    "        ytrain.append([0])\n",
    "Xtrain = np.array(Xtrain)\n",
    "ytrain = np.array(ytrain)\n",
    "\n",
    "for obs in range(40001, 46999):\n",
    "    row = []\n",
    "    for i in indexNet:\n",
    "        row.append(int(dataNet[obs][i]))\n",
    "    Xtest.append(row)\n",
    "    if dataNet[obs][42] in ['1', '10', '12']: # employed \n",
    "        ytest.append([1])\n",
    "    else:\n",
    "        ytest.append([0])\n",
    "Xtest = np.array(Xtest)\n",
    "ytest = np.array(ytest)"
   ]
  },
  {
   "cell_type": "code",
   "execution_count": 181,
   "metadata": {},
   "outputs": [
    {
     "name": "stdout",
     "output_type": "stream",
     "text": [
      "Epoch 1/20\n",
      "4000/4000 [==============================] - 7s 2ms/step - loss: 1.0613 - accuracy: 0.5604\n",
      "Epoch 2/20\n",
      "4000/4000 [==============================] - 7s 2ms/step - loss: 0.6157 - accuracy: 0.7134\n",
      "Epoch 3/20\n",
      "4000/4000 [==============================] - 6s 2ms/step - loss: 0.5719 - accuracy: 0.7430\n",
      "Epoch 4/20\n",
      "4000/4000 [==============================] - 6s 2ms/step - loss: 0.5393 - accuracy: 0.7539\n",
      "Epoch 5/20\n",
      "4000/4000 [==============================] - 6s 2ms/step - loss: 0.5038 - accuracy: 0.7660\n",
      "Epoch 6/20\n",
      "4000/4000 [==============================] - 6s 2ms/step - loss: 0.4825 - accuracy: 0.7778\n",
      "Epoch 7/20\n",
      "4000/4000 [==============================] - 7s 2ms/step - loss: 0.4655 - accuracy: 0.7881\n",
      "Epoch 8/20\n",
      "4000/4000 [==============================] - 7s 2ms/step - loss: 0.4533 - accuracy: 0.7904\n",
      "Epoch 9/20\n",
      "4000/4000 [==============================] - 7s 2ms/step - loss: 0.4480 - accuracy: 0.7935\n",
      "Epoch 10/20\n",
      "4000/4000 [==============================] - 7s 2ms/step - loss: 0.4427 - accuracy: 0.7958\n",
      "Epoch 11/20\n",
      "4000/4000 [==============================] - 7s 2ms/step - loss: 0.4393 - accuracy: 0.7972\n",
      "Epoch 12/20\n",
      "4000/4000 [==============================] - 7s 2ms/step - loss: 0.4384 - accuracy: 0.7963\n",
      "Epoch 13/20\n",
      "4000/4000 [==============================] - 7s 2ms/step - loss: 0.4374 - accuracy: 0.7961\n",
      "Epoch 14/20\n",
      "4000/4000 [==============================] - 7s 2ms/step - loss: 0.4353 - accuracy: 0.7993\n",
      "Epoch 15/20\n",
      "4000/4000 [==============================] - 7s 2ms/step - loss: 0.4333 - accuracy: 0.7984\n",
      "Epoch 16/20\n",
      "4000/4000 [==============================] - 7s 2ms/step - loss: 0.4331 - accuracy: 0.7990\n",
      "Epoch 17/20\n",
      "4000/4000 [==============================] - 7s 2ms/step - loss: 0.4317 - accuracy: 0.7990\n",
      "Epoch 18/20\n",
      "4000/4000 [==============================] - 7s 2ms/step - loss: 0.4304 - accuracy: 0.8001\n",
      "Epoch 19/20\n",
      "4000/4000 [==============================] - 6s 2ms/step - loss: 0.4308 - accuracy: 0.7997\n",
      "Epoch 20/20\n",
      "4000/4000 [==============================] - 6s 2ms/step - loss: 0.4306 - accuracy: 0.8009\n"
     ]
    },
    {
     "data": {
      "text/plain": [
       "<tensorflow.python.keras.callbacks.History at 0x7f70a4137220>"
      ]
     },
     "execution_count": 181,
     "metadata": {},
     "output_type": "execute_result"
    }
   ],
   "source": [
    "net = Sequential()\n",
    "net.add(Dense(10, input_dim=len(indexNet), activation = 'relu'))\n",
    "#net.add(Dense(20, activation='relu'))\n",
    "#net.add(Dense(10, activation='relu'))\n",
    "net.add(Dense(30, activation='relu'))\n",
    "net.add(Dense(1, activation='sigmoid'))\n",
    "\n",
    "net.compile(optimizer='adam',\n",
    "              loss='binary_crossentropy',\n",
    "              metrics=['accuracy'])\n",
    "\n",
    "net.fit(Xtrain, ytrain, epochs=20, batch_size=10)"
   ]
  },
  {
   "cell_type": "code",
   "execution_count": 183,
   "metadata": {},
   "outputs": [
    {
     "name": "stdout",
     "output_type": "stream",
     "text": [
      "Model: \"sequential_71\"\n",
      "_________________________________________________________________\n",
      "Layer (type)                 Output Shape              Param #   \n",
      "=================================================================\n",
      "dense_206 (Dense)            (None, 10)                60        \n",
      "_________________________________________________________________\n",
      "dense_207 (Dense)            (None, 30)                330       \n",
      "_________________________________________________________________\n",
      "dense_208 (Dense)            (None, 1)                 31        \n",
      "=================================================================\n",
      "Total params: 421\n",
      "Trainable params: 421\n",
      "Non-trainable params: 0\n",
      "_________________________________________________________________\n"
     ]
    }
   ],
   "source": [
    "net.summary()"
   ]
  },
  {
   "cell_type": "code",
   "execution_count": 182,
   "metadata": {},
   "outputs": [
    {
     "name": "stdout",
     "output_type": "stream",
     "text": [
      "70/70 [==============================] - 0s 1ms/step - loss: 0.4248 - accuracy: 0.8031\n"
     ]
    }
   ],
   "source": [
    "score = net.evaluate(Xtest, ytest, batch_size=100)"
   ]
  },
  {
   "cell_type": "markdown",
   "metadata": {},
   "source": [
    "### Notes: \n",
    "\n",
    "indexNet = [27], plus this gets about 90%. \n",
    "\n",
    "    net = Sequential()\n",
    "    net.add(Dense(2, input_dim=len(indexNet), activation = 'relu'))\n",
    "    net.add(Dense(2, activation='sigmoid')) \n",
    "    net.add(Dense(1, activation='sigmoid'))\n",
    "\n",
    "\n",
    "With indexNet = [16, 27] (sex and empstat), this gets 90%. \n",
    "\n",
    "    net = Sequential()\n",
    "    net.add(Dense(10, input_dim=len(indexNet), activation = 'relu'))\n",
    "    net.add(Dense(1, activation='sigmoid'))\n",
    "    \n",
    "    net.compile(optimizer='sgd',\n",
    "              loss='mse',\n",
    "              metrics=['accuracy'])\n",
    "\n",
    "    net.fit(Xtrain, ytrain, epochs=10, batch_size=10)\n",
    "\n",
    "Updated per blog post with indexNet = [16, 17, 27] got 91%\n",
    "\n",
    "    net.add(Dense(12, input_dim=len(indexNet), activation = 'relu'))\n",
    "    net.add(Dense(8, activation='relu'))\n",
    "    net.add(Dense(1, activation='sigmoid'))\n",
    "\n",
    "    net.compile(optimizer='adam',\n",
    "                  loss='binary_crossentropy',\n",
    "                  metrics=['accuracy'])\n",
    "\n",
    "    net.fit(Xtrain, ytrain, epochs=20, batch_size=10)\n",
    "     "
   ]
  },
  {
   "cell_type": "code",
   "execution_count": null,
   "metadata": {},
   "outputs": [],
   "source": []
  }
 ],
 "metadata": {
  "kernelspec": {
   "display_name": "Python 3",
   "language": "python",
   "name": "python3"
  },
  "language_info": {
   "codemirror_mode": {
    "name": "ipython",
    "version": 3
   },
   "file_extension": ".py",
   "mimetype": "text/x-python",
   "name": "python",
   "nbconvert_exporter": "python",
   "pygments_lexer": "ipython3",
   "version": "3.8.6"
  }
 },
 "nbformat": 4,
 "nbformat_minor": 4
}
